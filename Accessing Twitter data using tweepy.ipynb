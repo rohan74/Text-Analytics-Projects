{
 "cells": [
  {
   "cell_type": "code",
   "execution_count": null,
   "metadata": {},
   "outputs": [],
   "source": [
    "import tweepy\n",
    "from tweepy import OAuthHandler\n",
    " \n",
    "#To get these keys, we need create a Twitter account, then a Twitter developer account, and create your first app on Twitter\n",
    "consumer_key = 'YOUR-CONSUMER-KEY'\n",
    "consumer_secret = 'YOUR-CONSUMER-SECRET'\n",
    "access_token = 'YOUR-ACCESS-TOKEN'\n",
    "access_secret = 'YOUR-ACCESS-SECRET'\n",
    "\n",
    "#User authentication\n",
    "auth = OAuthHandler(consumer_key, consumer_secret)\n",
    "auth.set_access_token(access_token, access_secret)\n",
    "api = tweepy.API(auth)\n",
    "\n",
    "#Extracting tweets posted on your own Twitter timeline using REST API\n",
    "for tweets in tweepy.Cursor(api.home_timeline).items(10):\n",
    "    print(tweet.user.screen_name, tweet.created_at, tweet.text)\n",
    "\n",
    "#Tweets are JSON objects; they can be saved into JSON files\n",
    "with open('C:/Users/vijay/Desktop/python/Tweets.json', 'a') as f:\n",
    "    for tweet in tweepy.Cursor(api.home_timeline).items(10):\n",
    "        json.dump(tweet._json, f)\n"
   ]
  }
 ],
 "metadata": {
  "kernelspec": {
   "display_name": "Python 3",
   "language": "python",
   "name": "python3"
  },
  "language_info": {
   "codemirror_mode": {
    "name": "ipython",
    "version": 3
   },
   "file_extension": ".py",
   "mimetype": "text/x-python",
   "name": "python",
   "nbconvert_exporter": "python",
   "pygments_lexer": "ipython3",
   "version": "3.7.4"
  }
 },
 "nbformat": 4,
 "nbformat_minor": 2
}
